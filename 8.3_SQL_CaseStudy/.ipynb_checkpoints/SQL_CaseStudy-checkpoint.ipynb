{
 "cells": [
  {
   "cell_type": "code",
   "execution_count": 1,
   "id": "642ec4de",
   "metadata": {},
   "outputs": [
    {
     "name": "stdout",
     "output_type": "stream",
     "text": [
      "2.6.0\n",
      "2. Query all tasks\n",
      "(0, 'Tennis Court 1', 5, 25, 10000, 200)\n",
      "(1, 'Tennis Court 2', 5, 25, 8000, 200)\n",
      "(2, 'Badminton Court', 0, 15.5, 4000, 50)\n",
      "(3, 'Table Tennis', 0, 5, 320, 10)\n",
      "(4, 'Massage Room 1', 9.9, 80, 4000, 3000)\n",
      "(5, 'Massage Room 2', 9.9, 80, 4000, 3000)\n",
      "(6, 'Squash Court', 3.5, 17.5, 5000, 80)\n",
      "(7, 'Snooker Table', 0, 5, 450, 15)\n",
      "(8, 'Pool Table', 0, 5, 400, 15)\n"
     ]
    }
   ],
   "source": [
    "import sqlite3\n",
    "from sqlite3 import Error\n",
    "\n",
    " \n",
    "def create_connection(db_file):\n",
    "    \"\"\" create a database connection to the SQLite database\n",
    "        specified by the db_file\n",
    "    :param db_file: database file\n",
    "    :return: Connection object or None\n",
    "    \"\"\"\n",
    "    conn = None\n",
    "    try:\n",
    "        conn = sqlite3.connect(db_file)\n",
    "        print(sqlite3.version)\n",
    "    except Error as e:\n",
    "        print(e)\n",
    " \n",
    "    return conn\n",
    "\n",
    " \n",
    "def select_all_tasks(conn):\n",
    "    \"\"\"\n",
    "    Query all rows in the tasks table\n",
    "    :param conn: the Connection object\n",
    "    :return:\n",
    "    \"\"\"\n",
    "    cur = conn.cursor()\n",
    "    \n",
    "    query1 = \"\"\"\n",
    "        SELECT *\n",
    "        FROM FACILITIES\n",
    "        \"\"\"\n",
    "    cur.execute(query1)\n",
    " \n",
    "    rows = cur.fetchall()\n",
    " \n",
    "    for row in rows:\n",
    "        print(row)\n",
    "\n",
    "\n",
    "def main():\n",
    "    database = \"sqlite_db_pythonsqlite.db\"\n",
    " \n",
    "    # create a database connection\n",
    "    conn = create_connection(database)\n",
    "    with conn: \n",
    "        print(\"2. Query all tasks\")\n",
    "        select_all_tasks(conn)\n",
    " \n",
    " \n",
    "if __name__ == '__main__':\n",
    "    main()"
   ]
  },
  {
   "cell_type": "code",
   "execution_count": 2,
   "id": "c38ecfaf",
   "metadata": {},
   "outputs": [
    {
     "name": "stdout",
     "output_type": "stream",
     "text": [
      "['Bookings', 'Facilities', 'Members']\n"
     ]
    },
    {
     "name": "stderr",
     "output_type": "stream",
     "text": [
      "/var/folders/fw/slnm06yn15lgwlcg_7jpt3t00000gn/T/ipykernel_90085/2257586243.py:3: SADeprecationWarning: The Engine.table_names() method is deprecated and will be removed in a future release.  Please refer to Inspector.get_table_names(). (deprecated since: 1.4)\n",
      "  table_names = engine.table_names()\n"
     ]
    }
   ],
   "source": [
    "from sqlalchemy import create_engine\n",
    "engine = create_engine('sqlite:///sqlite_db_pythonsqlite.db')\n",
    "table_names = engine.table_names()\n",
    "print(table_names)"
   ]
  },
  {
   "cell_type": "code",
   "execution_count": 3,
   "id": "7f4edc07",
   "metadata": {},
   "outputs": [
    {
     "name": "stdout",
     "output_type": "stream",
     "text": [
      "   facid             name  membercost  guestcost  initialoutlay  \\\n",
      "0      0   Tennis Court 1         5.0       25.0          10000   \n",
      "1      1   Tennis Court 2         5.0       25.0           8000   \n",
      "2      2  Badminton Court         0.0       15.5           4000   \n",
      "3      3     Table Tennis         0.0        5.0            320   \n",
      "4      4   Massage Room 1         9.9       80.0           4000   \n",
      "5      5   Massage Room 2         9.9       80.0           4000   \n",
      "6      6     Squash Court         3.5       17.5           5000   \n",
      "7      7    Snooker Table         0.0        5.0            450   \n",
      "8      8       Pool Table         0.0        5.0            400   \n",
      "\n",
      "   monthlymaintenance  \n",
      "0                 200  \n",
      "1                 200  \n",
      "2                  50  \n",
      "3                  10  \n",
      "4                3000  \n",
      "5                3000  \n",
      "6                  80  \n",
      "7                  15  \n",
      "8                  15  \n"
     ]
    }
   ],
   "source": [
    "import pandas as pd\n",
    "\n",
    "df = pd.read_sql_query(\"SELECT * \\\n",
    "                FROM Facilities;\"\n",
    "                      ,engine)\n",
    "print(df)\n"
   ]
  },
  {
   "cell_type": "code",
   "execution_count": 4,
   "id": "9385a538",
   "metadata": {},
   "outputs": [
    {
     "name": "stdout",
     "output_type": "stream",
     "text": [
      "             name\n",
      "0  Tennis Court 1\n",
      "1  Tennis Court 2\n",
      "2  Massage Room 1\n",
      "3  Massage Room 2\n",
      "4    Squash Court\n"
     ]
    }
   ],
   "source": [
    "# Q1: Some of the facilities charge a fee to members, but some do not.\n",
    "# Write a SQL query to produce a list of the names of the facilities that do.\n",
    "\n",
    "\n",
    "df = pd.read_sql_query(\"SELECT name \\\n",
    "                FROM Facilities \\\n",
    "                WHERE membercost > 0;\"\n",
    "                      ,engine)\n",
    "print(df)\n"
   ]
  },
  {
   "cell_type": "code",
   "execution_count": 5,
   "id": "36f4abf7",
   "metadata": {},
   "outputs": [
    {
     "name": "stdout",
     "output_type": "stream",
     "text": [
      "              name\n",
      "0  Badminton Court\n",
      "1     Table Tennis\n",
      "2    Snooker Table\n",
      "3       Pool Table\n"
     ]
    }
   ],
   "source": [
    "# Q2: How many facilities do not charge a fee to members?\n",
    "\n",
    "df = pd.read_sql_query(\"SELECT name \\\n",
    "                FROM Facilities \\\n",
    "                WHERE membercost = 0;\"\n",
    "                      ,engine)\n",
    "\n",
    "print(df)"
   ]
  },
  {
   "cell_type": "code",
   "execution_count": 6,
   "id": "10bf539d",
   "metadata": {},
   "outputs": [
    {
     "name": "stdout",
     "output_type": "stream",
     "text": [
      "   facid            name  membercost  monthlymaintenance\n",
      "0      0  Tennis Court 1         5.0                 200\n",
      "1      1  Tennis Court 2         5.0                 200\n",
      "2      4  Massage Room 1         9.9                3000\n",
      "3      5  Massage Room 2         9.9                3000\n",
      "4      6    Squash Court         3.5                  80\n"
     ]
    }
   ],
   "source": [
    "# Q3: Write an SQL query to show a list of facilities that charge a fee to members,\n",
    "# where the fee is less than 20% of the facility's monthly maintenance cost.\n",
    "# Return the facid, facility name, member cost, and monthly maintenance of the\n",
    "# facilities in question.\n",
    "\n",
    "df = pd.read_sql_query(\"SELECT facid, name, membercost, monthlymaintenance \\\n",
    "                FROM Facilities \\\n",
    "                WHERE membercost > 0 \\\n",
    "                AND membercost < monthlymaintenance*0.2;\"\n",
    "                      ,engine)\n",
    "\n",
    "print(df)"
   ]
  },
  {
   "cell_type": "code",
   "execution_count": 7,
   "id": "1e51ad0f",
   "metadata": {},
   "outputs": [
    {
     "name": "stdout",
     "output_type": "stream",
     "text": [
      "   facid            name  membercost  guestcost  initialoutlay  \\\n",
      "0      1  Tennis Court 2         5.0         25           8000   \n",
      "1      5  Massage Room 2         9.9         80           4000   \n",
      "\n",
      "   monthlymaintenance  \n",
      "0                 200  \n",
      "1                3000  \n"
     ]
    }
   ],
   "source": [
    "# Q4: Write an SQL query to retrieve the details of facilities with ID 1 and 5.\n",
    "# Try writing the query without using the OR operator.\n",
    "\n",
    "df = pd.read_sql_query(\"SELECT * \\\n",
    "                FROM Facilities \\\n",
    "                WHERE facid IN (1, 5);\"\n",
    "                      ,engine)\n",
    "\n",
    "print(df)"
   ]
  },
  {
   "cell_type": "code",
   "execution_count": 8,
   "id": "e4c06283",
   "metadata": {},
   "outputs": [
    {
     "name": "stdout",
     "output_type": "stream",
     "text": [
      "              name  monthlymaintenance maintenance_level\n",
      "0   Tennis Court 1                 200         expensive\n",
      "1   Tennis Court 2                 200         expensive\n",
      "2  Badminton Court                  50             cheap\n",
      "3     Table Tennis                  10             cheap\n",
      "4   Massage Room 1                3000         expensive\n",
      "5   Massage Room 2                3000         expensive\n",
      "6     Squash Court                  80             cheap\n",
      "7    Snooker Table                  15             cheap\n",
      "8       Pool Table                  15             cheap\n"
     ]
    }
   ],
   "source": [
    "# Q5: Produce a list of facilities, with each labelled as\n",
    "# 'cheap' or 'expensive', depending on if their monthly maintenance cost is\n",
    "# more than $100. Return the name and monthly maintenance of the facilities\n",
    "# in question.\n",
    "\n",
    "df = pd.read_sql_query(\"SELECT name, monthlymaintenance,  \\\n",
    "                        CASE WHEN monthlymaintenance > 100 THEN 'expensive' \\\n",
    "                             ELSE 'cheap' END \\\n",
    "                             AS maintenance_level \\\n",
    "                        FROM Facilities\"\n",
    "                        ,engine)\n",
    "\n",
    "\n",
    "\n",
    "print(df)"
   ]
  },
  {
   "cell_type": "code",
   "execution_count": 9,
   "id": "cf98667a",
   "metadata": {},
   "outputs": [
    {
     "name": "stdout",
     "output_type": "stream",
     "text": [
      "  firstname surname\n",
      "0    Darren   Smith\n"
     ]
    }
   ],
   "source": [
    "# Q6: You'd like to get the first and last name of the last member(s)\n",
    "# who signed up. Try not to use the LIMIT clause for your solution.\n",
    "\n",
    "df = pd.read_sql_query('SELECT firstname, surname \\\n",
    "                        FROM Members \\\n",
    "                        WHERE joindate = \\\n",
    "                           (SELECT MAX(joindate) \\\n",
    "                           FROM Members);'\\\n",
    "                       ,engine)\n",
    "print(df)"
   ]
  },
  {
   "cell_type": "code",
   "execution_count": 10,
   "id": "5e873966",
   "metadata": {},
   "outputs": [
    {
     "name": "stdout",
     "output_type": "stream",
     "text": [
      "         member_name      court_name\n",
      "0          AnneBaker  Tennis Court 1\n",
      "1          AnneBaker  Tennis Court 2\n",
      "2        BurtonTracy  Tennis Court 2\n",
      "3        BurtonTracy  Tennis Court 1\n",
      "4        CharlesOwen  Tennis Court 1\n",
      "5        CharlesOwen  Tennis Court 2\n",
      "6        DarrenSmith  Tennis Court 2\n",
      "7       DavidFarrell  Tennis Court 1\n",
      "8       DavidFarrell  Tennis Court 2\n",
      "9         DavidJones  Tennis Court 2\n",
      "10        DavidJones  Tennis Court 1\n",
      "11       DavidPinker  Tennis Court 1\n",
      "12      DouglasJones  Tennis Court 1\n",
      "13      EricaCrumpet  Tennis Court 1\n",
      "14     FlorenceBader  Tennis Court 2\n",
      "15     FlorenceBader  Tennis Court 1\n",
      "16     GeraldButters  Tennis Court 1\n",
      "17     GeraldButters  Tennis Court 2\n",
      "18   HenriettaRumney  Tennis Court 2\n",
      "19         JackSmith  Tennis Court 1\n",
      "20         JackSmith  Tennis Court 2\n",
      "21    JaniceJoplette  Tennis Court 1\n",
      "22    JaniceJoplette  Tennis Court 2\n",
      "23     JemimaFarrell  Tennis Court 2\n",
      "24     JemimaFarrell  Tennis Court 1\n",
      "25        JoanCoplin  Tennis Court 1\n",
      "26          JohnHunt  Tennis Court 1\n",
      "27          JohnHunt  Tennis Court 2\n",
      "28    MatthewGenting  Tennis Court 1\n",
      "29  MillicentPurview  Tennis Court 2\n",
      "30         NancyDare  Tennis Court 2\n",
      "31         NancyDare  Tennis Court 1\n",
      "32    PonderStibbons  Tennis Court 2\n",
      "33    PonderStibbons  Tennis Court 1\n",
      "34   RamnareshSarwin  Tennis Court 2\n",
      "35   RamnareshSarwin  Tennis Court 1\n",
      "36         TimBoothe  Tennis Court 2\n",
      "37         TimBoothe  Tennis Court 1\n",
      "38         TimRownam  Tennis Court 2\n",
      "39         TimRownam  Tennis Court 1\n",
      "40      TimothyBaker  Tennis Court 2\n",
      "41      TimothyBaker  Tennis Court 1\n",
      "42        TracySmith  Tennis Court 1\n",
      "43        TracySmith  Tennis Court 2\n"
     ]
    }
   ],
   "source": [
    "# Q7: Produce a list of all members who have used a tennis court.\n",
    "# Include in your output the name of the court, and the name of the member\n",
    "# formatted as a single column. Ensure no duplicate data, and order by\n",
    "# the member name.\n",
    "\n",
    "df = pd.read_sql_query('SELECT DISTINCT m.firstname || m.surname AS member_name, \\\n",
    "                            f.name AS court_name \\\n",
    "                        FROM Bookings AS b \\\n",
    "                        INNER JOIN Facilities AS f \\\n",
    "                            ON b.facid = f.facid \\\n",
    "                        INNER JOIN Members AS m \\\n",
    "                            ON b.memid = m.memid \\\n",
    "                        WHERE f.name LIKE \"Tennis Court%\" \\\n",
    "                        AND m.memid <> 0 \\\n",
    "                        ORDER BY member_name;'\\\n",
    "                       ,engine)\n",
    "\n",
    "print(df)"
   ]
  },
  {
   "cell_type": "code",
   "execution_count": 11,
   "id": "1744ab7e",
   "metadata": {},
   "outputs": [
    {
     "name": "stdout",
     "output_type": "stream",
     "text": [
      "        member_name       court_name  cost\n",
      "0         JackSmith   Massage Room 1  19.8\n",
      "1     JemimaFarrell   Massage Room 1  19.8\n",
      "2    PonderStibbons   Massage Room 1  19.8\n",
      "3       BurtonTracy   Massage Room 1  19.8\n",
      "4    MatthewGenting   Massage Room 1  19.8\n",
      "5     FlorenceBader   Massage Room 2  19.8\n",
      "6       BurtonTracy   Tennis Court 1  15.0\n",
      "7       DavidPinker   Tennis Court 1  15.0\n",
      "8     GeraldButters   Tennis Court 1  15.0\n",
      "9         TimRownam   Tennis Court 1  15.0\n",
      "10     DouglasJones   Tennis Court 1  15.0\n",
      "11        AnneBaker     Squash Court   7.0\n",
      "12     TimothyBaker     Squash Court   7.0\n",
      "13      DavidPinker     Squash Court   7.0\n",
      "14      DarrenSmith  Badminton Court   0.0\n",
      "15    AnnaMackenzie  Badminton Court   0.0\n",
      "16    GeraldButters  Badminton Court   0.0\n",
      "17   PonderStibbons  Badminton Court   0.0\n",
      "18    FlorenceBader     Table Tennis   0.0\n",
      "19     TimothyBaker     Table Tennis   0.0\n",
      "20   MatthewGenting     Table Tennis   0.0\n",
      "21    AnnaMackenzie     Table Tennis   0.0\n",
      "22      CharlesOwen    Snooker Table   0.0\n",
      "23  RamnareshSarwin    Snooker Table   0.0\n",
      "24   PonderStibbons    Snooker Table   0.0\n",
      "25    AnnaMackenzie    Snooker Table   0.0\n",
      "26        TimRownam       Pool Table   0.0\n",
      "27     TimothyBaker       Pool Table   0.0\n",
      "28       TracySmith       Pool Table   0.0\n",
      "29    AnnaMackenzie       Pool Table   0.0\n",
      "30   PonderStibbons       Pool Table   0.0\n",
      "31   MatthewGenting       Pool Table   0.0\n",
      "32  RamnareshSarwin       Pool Table   0.0\n",
      "33       JoanCoplin       Pool Table   0.0\n",
      "34    FlorenceBader       Pool Table   0.0\n",
      "35       DavidJones       Pool Table   0.0\n"
     ]
    }
   ],
   "source": [
    "# Q8: Produce a list of bookings on the day of 2012-09-14 which\n",
    "# will cost the member (or guest) more than $30. Remember that guests have\n",
    "# different costs to members (the listed costs are per half-hour 'slot'), and\n",
    "# the guest user's ID is always 0. Include in your output the name of the\n",
    "# facility, the name of the member formatted as a single column, and the cost.\n",
    "# Order by descending cost, and do not use any subqueries.\n",
    "\n",
    "df = pd.read_sql_query('SELECT DISTINCT m.firstname || m.surname AS member_name, \\\n",
    "                            f.name AS court_name, \\\n",
    "                            CASE WHEN m.memid = 0 THEN b.slots * f.guestcost \\\n",
    "                                 ELSE b.slots * f.membercost END \\\n",
    "                                 AS cost \\\n",
    "                        FROM Bookings AS b \\\n",
    "                        INNER JOIN Facilities AS f \\\n",
    "                            ON b.facid = f.facid \\\n",
    "                        INNER JOIN Members AS m \\\n",
    "                            ON b.memid = m.memid \\\n",
    "                        WHERE b.starttime LIKE \"2012-09-14%\" \\\n",
    "                        AND ((m.memid = 0 AND (b.slots * f.guestcost) < 30) \\\n",
    "                        OR (m.memid > 0 AND (b.slots * f.membercost) < 30)) \\\n",
    "                        ORDER BY cost DESC;'\\\n",
    "                       ,engine)\n",
    "\n",
    "#df = pd.read_sql_query('SELECT * \\\n",
    "#                        FROM Bookings AS b \\\n",
    "#                        INNER JOIN Facilities AS f \\\n",
    "#                            ON b.facid = f.facid \\\n",
    "#                        INNER JOIN Members AS m \\\n",
    "#                            ON b.memid = m.memid;'\\\n",
    "#                       ,engine)\n",
    "\n",
    "print(df)"
   ]
  },
  {
   "cell_type": "code",
   "execution_count": 12,
   "id": "ac3d7ed0",
   "metadata": {},
   "outputs": [
    {
     "name": "stdout",
     "output_type": "stream",
     "text": [
      "        member_name       court_name  cost\n",
      "0         JackSmith   Massage Room 1  19.8\n",
      "1     JemimaFarrell   Massage Room 1  19.8\n",
      "2    PonderStibbons   Massage Room 1  19.8\n",
      "3       BurtonTracy   Massage Room 1  19.8\n",
      "4    MatthewGenting   Massage Room 1  19.8\n",
      "5     FlorenceBader   Massage Room 2  19.8\n",
      "6       BurtonTracy   Tennis Court 1  15.0\n",
      "7       DavidPinker   Tennis Court 1  15.0\n",
      "8     GeraldButters   Tennis Court 1  15.0\n",
      "9         TimRownam   Tennis Court 1  15.0\n",
      "10     DouglasJones   Tennis Court 1  15.0\n",
      "11        AnneBaker     Squash Court   7.0\n",
      "12     TimothyBaker     Squash Court   7.0\n",
      "13      DavidPinker     Squash Court   7.0\n",
      "14      DarrenSmith  Badminton Court   0.0\n",
      "15    AnnaMackenzie  Badminton Court   0.0\n",
      "16    GeraldButters  Badminton Court   0.0\n",
      "17   PonderStibbons  Badminton Court   0.0\n",
      "18    FlorenceBader     Table Tennis   0.0\n",
      "19     TimothyBaker     Table Tennis   0.0\n",
      "20   MatthewGenting     Table Tennis   0.0\n",
      "21    AnnaMackenzie     Table Tennis   0.0\n",
      "22      CharlesOwen    Snooker Table   0.0\n",
      "23  RamnareshSarwin    Snooker Table   0.0\n",
      "24   PonderStibbons    Snooker Table   0.0\n",
      "25    AnnaMackenzie    Snooker Table   0.0\n",
      "26        TimRownam       Pool Table   0.0\n",
      "27     TimothyBaker       Pool Table   0.0\n",
      "28       TracySmith       Pool Table   0.0\n",
      "29    AnnaMackenzie       Pool Table   0.0\n",
      "30   PonderStibbons       Pool Table   0.0\n",
      "31   MatthewGenting       Pool Table   0.0\n",
      "32  RamnareshSarwin       Pool Table   0.0\n",
      "33       JoanCoplin       Pool Table   0.0\n",
      "34    FlorenceBader       Pool Table   0.0\n",
      "35       DavidJones       Pool Table   0.0\n"
     ]
    }
   ],
   "source": [
    "# Q9: This time, produce the same result as in Q8, but using a subquery.\n",
    "\n",
    "df = pd.read_sql_query('SELECT DISTINCT m.firstname || m.surname AS member_name, \\\n",
    "                            f.name AS court_name, \\\n",
    "                            CASE WHEN m.memid = 0 THEN b.slots * f.guestcost \\\n",
    "                                 ELSE b.slots * f.membercost END \\\n",
    "                                 AS cost \\\n",
    "                        FROM (SELECT * \\\n",
    "                              FROM Bookings \\\n",
    "                              WHERE starttime LIKE \"2012-09-14%\") \\\n",
    "                              AS b \\\n",
    "                        INNER JOIN Facilities AS f \\\n",
    "                            ON b.facid = f.facid \\\n",
    "                        INNER JOIN Members AS m \\\n",
    "                            ON b.memid = m.memid \\\n",
    "                        WHERE ((m.memid = 0 AND (b.slots * f.guestcost) < 30) \\\n",
    "                        OR (m.memid > 0 AND (b.slots * f.membercost) < 30)) \\\n",
    "                        ORDER BY cost DESC;'\\\n",
    "                       ,engine)\n",
    "\n",
    "\n",
    "print(df)"
   ]
  },
  {
   "cell_type": "code",
   "execution_count": 13,
   "id": "466ea330",
   "metadata": {},
   "outputs": [
    {
     "name": "stdout",
     "output_type": "stream",
     "text": [
      "   facility_name  revenue\n",
      "0     Pool Table      270\n",
      "1  Snooker Table      240\n",
      "2   Table Tennis      180\n"
     ]
    }
   ],
   "source": [
    "# Q10: Produce a list of facilities with a total revenue less than 1000.\n",
    "# The output of facility name and total revenue, sorted by revenue. Remember\n",
    "# that there's a different cost for guests and members!\n",
    "\n",
    "df = pd.read_sql_query('SELECT f.name AS facility_name, \\\n",
    "                            SUM(CASE WHEN m.memid = 0 THEN b.slots * f.guestcost \\\n",
    "                                     ELSE b.slots * f.membercost END) \\\n",
    "                                     AS revenue \\\n",
    "                        FROM Bookings AS b \\\n",
    "                        INNER JOIN Facilities AS f \\\n",
    "                            ON b.facid = f.facid \\\n",
    "                        INNER JOIN Members AS m \\\n",
    "                            ON b.memid = m.memid \\\n",
    "                        GROUP BY f.name \\\n",
    "                        HAVING revenue < 1000;' \\\n",
    "                        ,engine)\n",
    "\n",
    "\n",
    "\n",
    "\n",
    "print(df)"
   ]
  },
  {
   "cell_type": "code",
   "execution_count": 14,
   "id": "3a12aac6",
   "metadata": {},
   "outputs": [
    {
     "name": "stdout",
     "output_type": "stream",
     "text": [
      "   member_surname member_lastname  recommend_surname recommend_firstname\n",
      "0        Stibbons          Ponder              Bader            Florence\n",
      "1        Stibbons          Ponder              Baker                Anne\n",
      "2         Farrell          Jemima              Baker             Timothy\n",
      "3          Rownam             Tim             Boothe                 Tim\n",
      "4           Smith          Darren            Butters              Gerald\n",
      "5           Baker         Timothy             Coplin                Joan\n",
      "6           Smith           Tracy            Crumpet               Erica\n",
      "7        Joplette          Janice               Dare               Nancy\n",
      "8         Butters          Gerald            Genting             Matthew\n",
      "9         Purview       Millicent               Hunt                John\n",
      "10       Joplette          Janice              Jones               David\n",
      "11          Jones           David              Jones             Douglas\n",
      "12          Smith          Darren           Joplette              Janice\n",
      "13          Smith          Darren          Mackenzie                Anna\n",
      "14          Smith          Darren               Owen             Charles\n",
      "15        Farrell          Jemima             Pinker               David\n",
      "16          Smith           Tracy            Purview           Millicent\n",
      "17        Genting         Matthew             Rumney           Henrietta\n",
      "18          Bader        Florence             Sarwin           Ramnaresh\n",
      "19          Smith          Darren              Smith                Jack\n",
      "20          Tracy          Burton           Stibbons              Ponder\n",
      "21          Smith           Tracy  Worthington-Smyth               Henry\n"
     ]
    }
   ],
   "source": [
    "# Q11: Produce a report of members and who recommended them in alphabetic surname,firstname order\n",
    "\n",
    "df = pd.read_sql_query('SELECT m1.surname AS member_surname, \\\n",
    "                               m1.firstname AS member_lastname, \\\n",
    "                               m2.surname AS recommend_surname, \\\n",
    "                               m2.firstname AS recommend_firstname \\\n",
    "                        FROM Members AS m1 \\\n",
    "                        INNER JOIN Members AS m2 \\\n",
    "                           ON m1.memid = m2.recommendedby \\\n",
    "                        ORDER BY m2.surname, m2.firstname;' \\\n",
    "                       , engine)\n",
    "print(df)"
   ]
  },
  {
   "cell_type": "code",
   "execution_count": 15,
   "id": "a2863c06",
   "metadata": {},
   "outputs": [
    {
     "name": "stdout",
     "output_type": "stream",
     "text": [
      "     facility_name  number_of_slots\n",
      "0  Badminton Court             1086\n",
      "1   Massage Room 1              884\n",
      "2   Massage Room 2               54\n",
      "3       Pool Table              856\n",
      "4    Snooker Table              860\n",
      "5     Squash Court              418\n",
      "6     Table Tennis              794\n",
      "7   Tennis Court 1              957\n",
      "8   Tennis Court 2              882\n"
     ]
    }
   ],
   "source": [
    "# Q12: Find the facilities with their usage by member, but not guests\n",
    "df = pd.read_sql_query('SELECT f.name AS facility_name, \\\n",
    "                                SUM(slots) AS number_of_slots \\\n",
    "                        FROM Bookings AS b \\\n",
    "                        INNER JOIN Facilities AS f \\\n",
    "                            ON b.facid = f.facid \\\n",
    "                        WHERE memid > 0 \\\n",
    "                        GROUP BY f.name;' \\\n",
    "                        ,engine)\n",
    "\n",
    "print(df)"
   ]
  },
  {
   "cell_type": "code",
   "execution_count": 16,
   "id": "b7c52aff",
   "metadata": {},
   "outputs": [
    {
     "name": "stdout",
     "output_type": "stream",
     "text": [
      "      facility_name  slots_per_month year_month\n",
      "0   Badminton Court              165    2012-07\n",
      "1   Badminton Court              414    2012-08\n",
      "2   Badminton Court              507    2012-09\n",
      "3    Massage Room 1              166    2012-07\n",
      "4    Massage Room 1              316    2012-08\n",
      "5    Massage Room 1              402    2012-09\n",
      "6    Massage Room 2                8    2012-07\n",
      "7    Massage Room 2               18    2012-08\n",
      "8    Massage Room 2               28    2012-09\n",
      "9        Pool Table              110    2012-07\n",
      "10       Pool Table              303    2012-08\n",
      "11       Pool Table              443    2012-09\n",
      "12    Snooker Table              140    2012-07\n",
      "13    Snooker Table              316    2012-08\n",
      "14    Snooker Table              404    2012-09\n",
      "15     Squash Court               50    2012-07\n",
      "16     Squash Court              184    2012-08\n",
      "17     Squash Court              184    2012-09\n",
      "18     Table Tennis               98    2012-07\n",
      "19     Table Tennis              296    2012-08\n",
      "20     Table Tennis              400    2012-09\n",
      "21   Tennis Court 1              201    2012-07\n",
      "22   Tennis Court 1              339    2012-08\n",
      "23   Tennis Court 1              417    2012-09\n",
      "24   Tennis Court 2              123    2012-07\n",
      "25   Tennis Court 2              345    2012-08\n",
      "26   Tennis Court 2              414    2012-09\n"
     ]
    }
   ],
   "source": [
    "# Q13: Find the facilities usage by month, but not guests\n",
    "df = pd.read_sql_query(\"SELECT f.name AS facility_name, \\\n",
    "                                SUM(slots) AS slots_per_month, \\\n",
    "                                STRFTIME('%Y-%m', starttime) AS year_month \\\n",
    "                        FROM Bookings AS b \\\n",
    "                        INNER JOIN Facilities AS f \\\n",
    "                            ON b.facid = f.facid \\\n",
    "                        WHERE memid > 0 \\\n",
    "                        GROUP BY f.name, year_month;\" \\\n",
    "                        ,engine)\n",
    "\n",
    "print(df)"
   ]
  },
  {
   "cell_type": "code",
   "execution_count": null,
   "id": "2604d93a",
   "metadata": {},
   "outputs": [],
   "source": []
  }
 ],
 "metadata": {
  "kernelspec": {
   "display_name": "Python 3 (ipykernel)",
   "language": "python",
   "name": "python3"
  },
  "language_info": {
   "codemirror_mode": {
    "name": "ipython",
    "version": 3
   },
   "file_extension": ".py",
   "mimetype": "text/x-python",
   "name": "python",
   "nbconvert_exporter": "python",
   "pygments_lexer": "ipython3",
   "version": "3.8.13"
  }
 },
 "nbformat": 4,
 "nbformat_minor": 5
}
